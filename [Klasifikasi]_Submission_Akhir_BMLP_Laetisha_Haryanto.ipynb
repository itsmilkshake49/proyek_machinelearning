{
 "cells": [
  {
   "cell_type": "markdown",
   "metadata": {
    "id": "fKADPWcFKlj3"
   },
   "source": [
    "# **1. Import Library**"
   ]
  },
  {
   "cell_type": "code",
   "execution_count": 79,
   "metadata": {
    "id": "BlmvjLY9M4Yj"
   },
   "outputs": [],
   "source": [
    "import pandas as pd\n",
    "import numpy as np\n",
    "import seaborn as sns\n",
    "import matplotlib.pyplot as plt\n",
    "from sklearn.model_selection import train_test_split\n",
    "from sklearn.preprocessing import LabelEncoder, StandardScaler\n",
    "from skopt import BayesSearchCV\n",
    "from sklearn.neighbors import KNeighborsClassifier\n",
    "from sklearn.tree import DecisionTreeClassifier\n",
    "from sklearn.ensemble import RandomForestClassifier\n",
    "from sklearn.metrics import confusion_matrix, classification_report\n",
    "from sklearn.svm import SVC\n",
    "from sklearn.naive_bayes import GaussianNB\n",
    "from sklearn.metrics import confusion_matrix, accuracy_score, precision_score, recall_score, f1_score"
   ]
  },
  {
   "cell_type": "markdown",
   "metadata": {
    "id": "f3YIEnAFKrKL"
   },
   "source": [
    "# **2. Memuat Dataset dari Hasil Clustering**"
   ]
  },
  {
   "cell_type": "code",
   "execution_count": 80,
   "metadata": {
    "id": "GHCGNTyrM5fS"
   },
   "outputs": [
    {
     "data": {
      "text/html": [
       "<div>\n",
       "<style scoped>\n",
       "    .dataframe tbody tr th:only-of-type {\n",
       "        vertical-align: middle;\n",
       "    }\n",
       "\n",
       "    .dataframe tbody tr th {\n",
       "        vertical-align: top;\n",
       "    }\n",
       "\n",
       "    .dataframe thead th {\n",
       "        text-align: right;\n",
       "    }\n",
       "</style>\n",
       "<table border=\"1\" class=\"dataframe\">\n",
       "  <thead>\n",
       "    <tr style=\"text-align: right;\">\n",
       "      <th></th>\n",
       "      <th>TransactionAmount</th>\n",
       "      <th>TransactionType</th>\n",
       "      <th>Location</th>\n",
       "      <th>Channel</th>\n",
       "      <th>CustomerAge</th>\n",
       "      <th>CustomerOccupation</th>\n",
       "      <th>TransactionDuration</th>\n",
       "      <th>LoginAttempts</th>\n",
       "      <th>AccountBalance</th>\n",
       "      <th>Cluster</th>\n",
       "    </tr>\n",
       "  </thead>\n",
       "  <tbody>\n",
       "    <tr>\n",
       "      <th>0</th>\n",
       "      <td>15.09</td>\n",
       "      <td>Debit</td>\n",
       "      <td>San Diego</td>\n",
       "      <td>ATM</td>\n",
       "      <td>70.0</td>\n",
       "      <td>Doctor</td>\n",
       "      <td>81.0</td>\n",
       "      <td>1.0</td>\n",
       "      <td>5112.21</td>\n",
       "      <td>0</td>\n",
       "    </tr>\n",
       "    <tr>\n",
       "      <th>1</th>\n",
       "      <td>377.24</td>\n",
       "      <td>Debit</td>\n",
       "      <td>Houston</td>\n",
       "      <td>ATM</td>\n",
       "      <td>68.0</td>\n",
       "      <td>Doctor</td>\n",
       "      <td>141.0</td>\n",
       "      <td>1.0</td>\n",
       "      <td>13758.91</td>\n",
       "      <td>0</td>\n",
       "    </tr>\n",
       "    <tr>\n",
       "      <th>2</th>\n",
       "      <td>127.29</td>\n",
       "      <td>Debit</td>\n",
       "      <td>Mesa</td>\n",
       "      <td>Online</td>\n",
       "      <td>19.0</td>\n",
       "      <td>Student</td>\n",
       "      <td>56.0</td>\n",
       "      <td>1.0</td>\n",
       "      <td>1122.35</td>\n",
       "      <td>0</td>\n",
       "    </tr>\n",
       "    <tr>\n",
       "      <th>3</th>\n",
       "      <td>185.50</td>\n",
       "      <td>Debit</td>\n",
       "      <td>Raleigh</td>\n",
       "      <td>Online</td>\n",
       "      <td>26.0</td>\n",
       "      <td>Student</td>\n",
       "      <td>25.0</td>\n",
       "      <td>1.0</td>\n",
       "      <td>8569.06</td>\n",
       "      <td>0</td>\n",
       "    </tr>\n",
       "    <tr>\n",
       "      <th>4</th>\n",
       "      <td>14.45</td>\n",
       "      <td>Credit</td>\n",
       "      <td>Atlanta</td>\n",
       "      <td>Online</td>\n",
       "      <td>26.0</td>\n",
       "      <td>Student</td>\n",
       "      <td>198.0</td>\n",
       "      <td>1.0</td>\n",
       "      <td>7429.40</td>\n",
       "      <td>0</td>\n",
       "    </tr>\n",
       "  </tbody>\n",
       "</table>\n",
       "</div>"
      ],
      "text/plain": [
       "   TransactionAmount TransactionType   Location Channel  CustomerAge  \\\n",
       "0              15.09           Debit  San Diego     ATM         70.0   \n",
       "1             377.24           Debit    Houston     ATM         68.0   \n",
       "2             127.29           Debit       Mesa  Online         19.0   \n",
       "3             185.50           Debit    Raleigh  Online         26.0   \n",
       "4              14.45          Credit    Atlanta  Online         26.0   \n",
       "\n",
       "  CustomerOccupation  TransactionDuration  LoginAttempts  AccountBalance  \\\n",
       "0             Doctor                 81.0            1.0         5112.21   \n",
       "1             Doctor                141.0            1.0        13758.91   \n",
       "2            Student                 56.0            1.0         1122.35   \n",
       "3            Student                 25.0            1.0         8569.06   \n",
       "4            Student                198.0            1.0         7429.40   \n",
       "\n",
       "   Cluster  \n",
       "0        0  \n",
       "1        0  \n",
       "2        0  \n",
       "3        0  \n",
       "4        0  "
      ]
     },
     "execution_count": 80,
     "metadata": {},
     "output_type": "execute_result"
    }
   ],
   "source": [
    "clustered_df = pd.read_csv(r'C:\\Users\\Dell\\Desktop\\DICODING\\Python\\proyek_ml\\bank_clustered.csv')\n",
    "clustered_df.head()"
   ]
  },
  {
   "cell_type": "code",
   "execution_count": 81,
   "metadata": {},
   "outputs": [
    {
     "name": "stdout",
     "output_type": "stream",
     "text": [
      "<class 'pandas.core.frame.DataFrame'>\n",
      "RangeIndex: 2512 entries, 0 to 2511\n",
      "Data columns (total 10 columns):\n",
      " #   Column               Non-Null Count  Dtype  \n",
      "---  ------               --------------  -----  \n",
      " 0   TransactionAmount    2512 non-null   float64\n",
      " 1   TransactionType      2512 non-null   object \n",
      " 2   Location             2512 non-null   object \n",
      " 3   Channel              2512 non-null   object \n",
      " 4   CustomerAge          2512 non-null   float64\n",
      " 5   CustomerOccupation   2512 non-null   object \n",
      " 6   TransactionDuration  2512 non-null   float64\n",
      " 7   LoginAttempts        2512 non-null   float64\n",
      " 8   AccountBalance       2512 non-null   float64\n",
      " 9   Cluster              2512 non-null   int64  \n",
      "dtypes: float64(5), int64(1), object(4)\n",
      "memory usage: 196.4+ KB\n"
     ]
    }
   ],
   "source": [
    "clustered_df.info()"
   ]
  },
  {
   "cell_type": "markdown",
   "metadata": {
    "id": "KkPem5eWL2UP"
   },
   "source": [
    "# **3. Data Splitting**"
   ]
  },
  {
   "cell_type": "code",
   "execution_count": 82,
   "metadata": {
    "id": "OubAW-7ONKVj"
   },
   "outputs": [],
   "source": [
    "# Memisahkan Cluster dari Dataset untuk menjadi target\n",
    "X = clustered_df.drop(columns=['Cluster'], axis=1)\n",
    "y = clustered_df['Cluster']"
   ]
  },
  {
   "cell_type": "code",
   "execution_count": 83,
   "metadata": {},
   "outputs": [
    {
     "data": {
      "text/html": [
       "<div>\n",
       "<style scoped>\n",
       "    .dataframe tbody tr th:only-of-type {\n",
       "        vertical-align: middle;\n",
       "    }\n",
       "\n",
       "    .dataframe tbody tr th {\n",
       "        vertical-align: top;\n",
       "    }\n",
       "\n",
       "    .dataframe thead th {\n",
       "        text-align: right;\n",
       "    }\n",
       "</style>\n",
       "<table border=\"1\" class=\"dataframe\">\n",
       "  <thead>\n",
       "    <tr style=\"text-align: right;\">\n",
       "      <th></th>\n",
       "      <th>TransactionAmount</th>\n",
       "      <th>TransactionType</th>\n",
       "      <th>Location</th>\n",
       "      <th>Channel</th>\n",
       "      <th>CustomerAge</th>\n",
       "      <th>CustomerOccupation</th>\n",
       "      <th>TransactionDuration</th>\n",
       "      <th>LoginAttempts</th>\n",
       "      <th>AccountBalance</th>\n",
       "    </tr>\n",
       "  </thead>\n",
       "  <tbody>\n",
       "    <tr>\n",
       "      <th>0</th>\n",
       "      <td>-0.971275</td>\n",
       "      <td>1</td>\n",
       "      <td>36</td>\n",
       "      <td>0</td>\n",
       "      <td>1.423718</td>\n",
       "      <td>0</td>\n",
       "      <td>-0.552443</td>\n",
       "      <td>-0.206794</td>\n",
       "      <td>-0.000537</td>\n",
       "    </tr>\n",
       "    <tr>\n",
       "      <th>1</th>\n",
       "      <td>0.269440</td>\n",
       "      <td>1</td>\n",
       "      <td>15</td>\n",
       "      <td>0</td>\n",
       "      <td>1.311287</td>\n",
       "      <td>0</td>\n",
       "      <td>0.305314</td>\n",
       "      <td>-0.206794</td>\n",
       "      <td>2.216472</td>\n",
       "    </tr>\n",
       "    <tr>\n",
       "      <th>2</th>\n",
       "      <td>-0.586882</td>\n",
       "      <td>1</td>\n",
       "      <td>23</td>\n",
       "      <td>2</td>\n",
       "      <td>-1.443277</td>\n",
       "      <td>3</td>\n",
       "      <td>-0.909842</td>\n",
       "      <td>-0.206794</td>\n",
       "      <td>-1.023534</td>\n",
       "    </tr>\n",
       "    <tr>\n",
       "      <th>3</th>\n",
       "      <td>-0.387456</td>\n",
       "      <td>1</td>\n",
       "      <td>33</td>\n",
       "      <td>2</td>\n",
       "      <td>-1.049768</td>\n",
       "      <td>3</td>\n",
       "      <td>-1.353017</td>\n",
       "      <td>-0.206794</td>\n",
       "      <td>0.885797</td>\n",
       "    </tr>\n",
       "    <tr>\n",
       "      <th>4</th>\n",
       "      <td>-0.973468</td>\n",
       "      <td>0</td>\n",
       "      <td>1</td>\n",
       "      <td>2</td>\n",
       "      <td>-1.049768</td>\n",
       "      <td>3</td>\n",
       "      <td>1.120184</td>\n",
       "      <td>-0.206794</td>\n",
       "      <td>0.593589</td>\n",
       "    </tr>\n",
       "  </tbody>\n",
       "</table>\n",
       "</div>"
      ],
      "text/plain": [
       "   TransactionAmount  TransactionType  Location  Channel  CustomerAge  \\\n",
       "0          -0.971275                1        36        0     1.423718   \n",
       "1           0.269440                1        15        0     1.311287   \n",
       "2          -0.586882                1        23        2    -1.443277   \n",
       "3          -0.387456                1        33        2    -1.049768   \n",
       "4          -0.973468                0         1        2    -1.049768   \n",
       "\n",
       "   CustomerOccupation  TransactionDuration  LoginAttempts  AccountBalance  \n",
       "0                   0            -0.552443      -0.206794       -0.000537  \n",
       "1                   0             0.305314      -0.206794        2.216472  \n",
       "2                   3            -0.909842      -0.206794       -1.023534  \n",
       "3                   3            -1.353017      -0.206794        0.885797  \n",
       "4                   3             1.120184      -0.206794        0.593589  "
      ]
     },
     "execution_count": 83,
     "metadata": {},
     "output_type": "execute_result"
    }
   ],
   "source": [
    "# Standarisasi\n",
    "fitur_num = X.select_dtypes(include=['number']).columns\n",
    "\n",
    "scaler = StandardScaler()\n",
    "X[fitur_num] = scaler.fit_transform(X[fitur_num])\n",
    "\n",
    "#Encoding\n",
    "fitur_kat = X.select_dtypes(include=['object']).columns\n",
    "\n",
    "le = LabelEncoder()\n",
    "for column in fitur_kat:\n",
    "    X[column] = le.fit_transform(X[column])\n",
    "\n",
    "X.head()"
   ]
  },
  {
   "cell_type": "code",
   "execution_count": 84,
   "metadata": {},
   "outputs": [
    {
     "name": "stdout",
     "output_type": "stream",
     "text": [
      "Training set shape: X_train=(2009, 9), y_train=(2009,)\n",
      "Test set shape: X_test=(503, 9), y_test=(503,)\n"
     ]
    }
   ],
   "source": [
    "# Data Splitting\n",
    "# Split data menjadi set pelatihan dan set uji\n",
    "X_train, X_test, y_train, y_test = train_test_split(X, y, test_size=0.2, random_state=42)\n",
    " \n",
    "# Tampilkan bentuk set pelatihan dan set uji untuk memastikan split\n",
    "print(f\"Training set shape: X_train={X_train.shape}, y_train={y_train.shape}\")\n",
    "print(f\"Test set shape: X_test={X_test.shape}, y_test={y_test.shape}\")"
   ]
  },
  {
   "cell_type": "markdown",
   "metadata": {
    "id": "IVPbB03CMhTT"
   },
   "source": [
    "# **4. Membangun Model Klasifikasi**\n"
   ]
  },
  {
   "cell_type": "markdown",
   "metadata": {
    "id": "Ned1pL9zMmBK"
   },
   "source": [
    "## **a. Membangun Model Klasifikasi**"
   ]
  },
  {
   "cell_type": "code",
   "execution_count": 85,
   "metadata": {
    "id": "4JYxBe87NLDk"
   },
   "outputs": [
    {
     "name": "stdout",
     "output_type": "stream",
     "text": [
      "Model training selesai.\n"
     ]
    }
   ],
   "source": [
    "# Pelatihan Model\n",
    "knn = KNeighborsClassifier().fit(X_train, y_train)\n",
    "rf = RandomForestClassifier().fit(X_train, y_train)\n",
    " \n",
    "print(\"Model training selesai.\")"
   ]
  },
  {
   "cell_type": "markdown",
   "metadata": {
    "id": "seYoHNY3XU1y"
   },
   "source": [
    "Algoritma yang digunakan:\n",
    "- **K-Nearest Neighbors (KNN):** algoritma supervised learning yang dapat digunakan untuk klasifikasi dan regresi. Metode ini melakukan klasifikasi data berdasarkan kedekatannya dengan data lain yang sudah diberi label. Data baru diklasifikasikan ke dalam kelas yang paling umum di antara tetangga terdekatnya.\n",
    "- **Random Forest:** algoritma lanjutan dari Decision Tree yang menggunakan banyak pohon keputusan untuk meningkatkan akurasi prediksi. Algoritma ini menggabungkan hasil beberapa pohon keputusan yang dibangun dari sampel acak dataset sehingga mengurangi risiko overfitting dan memberikan hasil lebih stabil."
   ]
  },
  {
   "cell_type": "markdown",
   "metadata": {
    "id": "ergzChZFEL-O"
   },
   "source": [
    "## **b. Evaluasi Model Klasifikasi**"
   ]
  },
  {
   "cell_type": "markdown",
   "metadata": {},
   "source": [
    "### **Evaluasi Model dengan Data Uji**"
   ]
  },
  {
   "cell_type": "code",
   "execution_count": 86,
   "metadata": {
    "id": "tMq4QAssNLip"
   },
   "outputs": [
    {
     "name": "stdout",
     "output_type": "stream",
     "text": [
      "                       Model  Accuracy  Precision    Recall  F1-Score\n",
      "0  K-Nearest Neighbors (KNN)  0.996024   0.996028  0.996024  0.995934\n",
      "1         Random Forest (RF)  1.000000   1.000000  1.000000  1.000000\n"
     ]
    }
   ],
   "source": [
    "def evaluate_model(model, X_test, y_test):\n",
    "    y_pred = model.predict(X_test)\n",
    "    cm = confusion_matrix(y_test, y_pred)\n",
    "    results = {\n",
    "        'Accuracy': accuracy_score(y_test, y_pred),\n",
    "        'Precision': precision_score(y_test, y_pred, average='weighted'),\n",
    "        'Recall': recall_score(y_test, y_pred, average='weighted'),\n",
    "        'F1-Score': f1_score(y_test, y_pred, average='weighted')\n",
    "    }\n",
    "    return results\n",
    "    \n",
    "    print(\"Confusion Matrix:\\n\", cm)\n",
    "    print(\"\\nClassification Report:\\n\", classification_report(y_test, y_pred))\n",
    " \n",
    "# Mengevaluasi setiap model dan mengumpulkan hasilnya\n",
    "results = {\n",
    "    'K-Nearest Neighbors (KNN)': evaluate_model(knn, X_test, y_test),\n",
    "    'Random Forest (RF)': evaluate_model(rf, X_test, y_test)\n",
    "}\n",
    " \n",
    "# Buat DataFrame untuk meringkas hasil\n",
    "summary_df = pd.DataFrame(columns=['Model', 'Accuracy', 'Precision', 'Recall', 'F1-Score'])\n",
    " \n",
    "# Isi DataFrame dengan hasil\n",
    "rows = []\n",
    "for model_name, metrics in results.items():\n",
    "    rows.append({\n",
    "        'Model': model_name,\n",
    "        'Accuracy': metrics['Accuracy'],\n",
    "        'Precision': metrics['Precision'],\n",
    "        'Recall': metrics['Recall'],\n",
    "        'F1-Score': metrics['F1-Score']\n",
    "    })\n",
    " \n",
    "# Konversi daftar kamus ke DataFrame\n",
    "summary_df = pd.DataFrame(rows)\n",
    " \n",
    "# Tampilkan DataFrame\n",
    "print(summary_df)"
   ]
  },
  {
   "cell_type": "markdown",
   "metadata": {},
   "source": [
    "### **Confusion Matrix**"
   ]
  },
  {
   "cell_type": "code",
   "execution_count": 87,
   "metadata": {},
   "outputs": [],
   "source": [
    "# Membuat fungsi untuk confusion matrix\n",
    "\n",
    "def plot_confusion_matrix(model, X_test, y_test):\n",
    "    # Prediksi data uji\n",
    "    y_pred = model.predict(X_test)\n",
    "\n",
    "    # Buat confusion matrix\n",
    "    cm = confusion_matrix(y_test, y_pred)\n",
    "\n",
    "    # Plot confusion matrix\n",
    "    plt.figure(figsize=(6,5))\n",
    "    sns.heatmap(cm, annot=True, fmt='d', cmap='Blues', cbar=True)\n",
    "    \n",
    "    # Tambahkan label\n",
    "    plt.xlabel(\"Predicted Label\")\n",
    "    plt.ylabel(\"True Label\")\n",
    "    plt.title(f\"Confusion Matrix {model.__class__.__name__}\")\n",
    "\n",
    "    plt.show()"
   ]
  },
  {
   "cell_type": "code",
   "execution_count": 88,
   "metadata": {},
   "outputs": [
    {
     "data": {
      "image/png": "[encoded data removed]",
      "text/plain": [
       "<Figure size 600x500 with 2 Axes>"
      ]
     },
     "metadata": {},
     "output_type": "display_data"
    }
   ],
   "source": [
    "# Confusion Matrix untuk KNN\n",
    "plot_confusion_matrix(knn, X_test, y_test)"
   ]
  },
  {
   "cell_type": "code",
   "execution_count": 89,
   "metadata": {},
   "outputs": [
    {
     "data": {
      "image/png": "[encoded data removed]",
      "text/plain": [
       "<Figure size 600x500 with 2 Axes>"
      ]
     },
     "metadata": {},
     "output_type": "display_data"
    }
   ],
   "source": [
    "# Confusion Matrix untuk RandomForest\n",
    "plot_confusion_matrix(rf, X_test, y_test)"
   ]
  },
  {
   "cell_type": "markdown",
   "metadata": {},
   "source": [
    "Perbandingan algoritma:  \n",
    "- KNN melakukan 1 kesalahan prediksi, sedangkan RandomForest tidak melakukan kesalahan prediksi\n",
    "- KNN masih bisa ditingkatkan dengan tuning parameter"
   ]
  },
  {
   "cell_type": "markdown",
   "metadata": {
    "id": "ph9yIYDXEPuB"
   },
   "source": [
    "## **c. Tuning Model Klasifikasi (Optional)**"
   ]
  },
  {
   "cell_type": "markdown",
   "metadata": {},
   "source": [
    "### **Tuning model KNN dengan Bayes Optimization**"
   ]
  },
  {
   "cell_type": "code",
   "execution_count": 90,
   "metadata": {},
   "outputs": [
    {
     "name": "stdout",
     "output_type": "stream",
     "text": [
      "Fitting 3 folds for each of 1 candidates, totalling 3 fits\n",
      "Fitting 3 folds for each of 1 candidates, totalling 3 fits\n",
      "Fitting 3 folds for each of 1 candidates, totalling 3 fits\n",
      "Fitting 3 folds for each of 1 candidates, totalling 3 fits\n",
      "Fitting 3 folds for each of 1 candidates, totalling 3 fits\n",
      "Fitting 3 folds for each of 1 candidates, totalling 3 fits\n",
      "Fitting 3 folds for each of 1 candidates, totalling 3 fits\n",
      "Fitting 3 folds for each of 1 candidates, totalling 3 fits\n",
      "Fitting 3 folds for each of 1 candidates, totalling 3 fits\n",
      "Fitting 3 folds for each of 1 candidates, totalling 3 fits\n",
      "Fitting 3 folds for each of 1 candidates, totalling 3 fits\n",
      "Fitting 3 folds for each of 1 candidates, totalling 3 fits\n",
      "Fitting 3 folds for each of 1 candidates, totalling 3 fits\n",
      "Fitting 3 folds for each of 1 candidates, totalling 3 fits\n",
      "Fitting 3 folds for each of 1 candidates, totalling 3 fits\n",
      "Fitting 3 folds for each of 1 candidates, totalling 3 fits\n",
      "Fitting 3 folds for each of 1 candidates, totalling 3 fits\n",
      "Fitting 3 folds for each of 1 candidates, totalling 3 fits\n",
      "Fitting 3 folds for each of 1 candidates, totalling 3 fits\n",
      "Fitting 3 folds for each of 1 candidates, totalling 3 fits\n",
      "Fitting 3 folds for each of 1 candidates, totalling 3 fits\n",
      "Fitting 3 folds for each of 1 candidates, totalling 3 fits\n",
      "Fitting 3 folds for each of 1 candidates, totalling 3 fits\n",
      "Fitting 3 folds for each of 1 candidates, totalling 3 fits\n",
      "Fitting 3 folds for each of 1 candidates, totalling 3 fits\n",
      "Fitting 3 folds for each of 1 candidates, totalling 3 fits\n",
      "Fitting 3 folds for each of 1 candidates, totalling 3 fits\n",
      "Fitting 3 folds for each of 1 candidates, totalling 3 fits\n",
      "Fitting 3 folds for each of 1 candidates, totalling 3 fits\n",
      "Fitting 3 folds for each of 1 candidates, totalling 3 fits\n",
      "Fitting 3 folds for each of 1 candidates, totalling 3 fits\n"
     ]
    },
    {
     "name": "stderr",
     "output_type": "stream",
     "text": [
      "C:\\Users\\Dell\\.virtualenvs\\proyek_analisis_data-4CKVh0Td\\Lib\\site-packages\\skopt\\optimizer\\optimizer.py:517: UserWarning: The objective has been evaluated at point [np.str_('manhattan'), np.int64(1), np.str_('distance')] before, using random point ['euclidean', np.int64(13), 'distance']\n",
      "  warnings.warn(\n"
     ]
    },
    {
     "name": "stdout",
     "output_type": "stream",
     "text": [
      "Fitting 3 folds for each of 1 candidates, totalling 3 fits\n",
      "Best parameters (Bayesian Optimization): OrderedDict({'metric': 'euclidean', 'n_neighbors': 4, 'weights': 'uniform'})\n",
      "Accuracy after Bayesian Optimization: 1.00\n"
     ]
    }
   ],
   "source": [
    "# Definisikan ruang pencarian untuk Bayesian Optimization\n",
    "param_space = {\n",
    "    'n_neighbors': (1, 20),  \n",
    "    'weights': ['uniform', 'distance'],  \n",
    "    'metric': ['euclidean', 'manhattan']\n",
    "}\n",
    " \n",
    "# Inisialisasi BayesSearchCV\n",
    "bayes_search = BayesSearchCV(estimator=knn, search_spaces=param_space, n_iter=32, cv=3, n_jobs=-1, verbose=2, random_state=42)\n",
    "bayes_search.fit(X_train, y_train)\n",
    " \n",
    "# Output hasil terbaik\n",
    "print(f\"Best parameters (Bayesian Optimization): {bayes_search.best_params_}\")\n",
    "best_rf_bayes = bayes_search.best_estimator_\n",
    " \n",
    "# Evaluasi performa model pada test set\n",
    "bayes_search_score = best_rf_bayes.score(X_test, y_test)\n",
    "print(f\"Accuracy after Bayesian Optimization: {bayes_search_score:.2f}\") "
   ]
  },
  {
   "cell_type": "markdown",
   "metadata": {},
   "source": [
    "### **Tuning model RandomForest dengan Bayes Optimization**"
   ]
  },
  {
   "cell_type": "code",
   "execution_count": 91,
   "metadata": {
    "id": "winbFzb8NL95"
   },
   "outputs": [
    {
     "name": "stdout",
     "output_type": "stream",
     "text": [
      "Fitting 3 folds for each of 1 candidates, totalling 3 fits\n",
      "Fitting 3 folds for each of 1 candidates, totalling 3 fits\n",
      "Fitting 3 folds for each of 1 candidates, totalling 3 fits\n",
      "Fitting 3 folds for each of 1 candidates, totalling 3 fits\n",
      "Fitting 3 folds for each of 1 candidates, totalling 3 fits\n",
      "Fitting 3 folds for each of 1 candidates, totalling 3 fits\n",
      "Fitting 3 folds for each of 1 candidates, totalling 3 fits\n",
      "Fitting 3 folds for each of 1 candidates, totalling 3 fits\n",
      "Fitting 3 folds for each of 1 candidates, totalling 3 fits\n",
      "Fitting 3 folds for each of 1 candidates, totalling 3 fits\n",
      "Fitting 3 folds for each of 1 candidates, totalling 3 fits\n",
      "Fitting 3 folds for each of 1 candidates, totalling 3 fits\n",
      "Fitting 3 folds for each of 1 candidates, totalling 3 fits\n",
      "Fitting 3 folds for each of 1 candidates, totalling 3 fits\n",
      "Fitting 3 folds for each of 1 candidates, totalling 3 fits\n",
      "Fitting 3 folds for each of 1 candidates, totalling 3 fits\n",
      "Fitting 3 folds for each of 1 candidates, totalling 3 fits\n",
      "Fitting 3 folds for each of 1 candidates, totalling 3 fits\n",
      "Fitting 3 folds for each of 1 candidates, totalling 3 fits\n",
      "Fitting 3 folds for each of 1 candidates, totalling 3 fits\n",
      "Fitting 3 folds for each of 1 candidates, totalling 3 fits\n",
      "Fitting 3 folds for each of 1 candidates, totalling 3 fits\n",
      "Fitting 3 folds for each of 1 candidates, totalling 3 fits\n",
      "Fitting 3 folds for each of 1 candidates, totalling 3 fits\n",
      "Fitting 3 folds for each of 1 candidates, totalling 3 fits\n",
      "Fitting 3 folds for each of 1 candidates, totalling 3 fits\n",
      "Fitting 3 folds for each of 1 candidates, totalling 3 fits\n",
      "Fitting 3 folds for each of 1 candidates, totalling 3 fits\n",
      "Fitting 3 folds for each of 1 candidates, totalling 3 fits\n",
      "Fitting 3 folds for each of 1 candidates, totalling 3 fits\n",
      "Fitting 3 folds for each of 1 candidates, totalling 3 fits\n",
      "Fitting 3 folds for each of 1 candidates, totalling 3 fits\n",
      "Best parameters (Bayesian Optimization): OrderedDict({'criterion': 'gini', 'max_depth': 39, 'min_samples_split': 9, 'n_estimators': 226})\n",
      "Accuracy after Bayesian Optimization: 1.00\n"
     ]
    }
   ],
   "source": [
    "# Definisikan ruang pencarian untuk Bayesian Optimization\n",
    "param_space = {\n",
    "    'n_estimators': (100, 500),\n",
    "    'max_depth': (10, 50),\n",
    "    'min_samples_split': (2, 10),\n",
    "    'criterion': ['gini', 'entropy']\n",
    "}\n",
    " \n",
    "# Inisialisasi BayesSearchCV\n",
    "bayes_search = BayesSearchCV(estimator=rf, search_spaces=param_space, n_iter=32, cv=3, n_jobs=-1, verbose=2, random_state=42)\n",
    "bayes_search.fit(X_train, y_train)\n",
    " \n",
    "# Output hasil terbaik\n",
    "print(f\"Best parameters (Bayesian Optimization): {bayes_search.best_params_}\")\n",
    "best_rf_bayes = bayes_search.best_estimator_\n",
    " \n",
    "# Evaluasi performa model pada test set\n",
    "bayes_search_score = best_rf_bayes.score(X_test, y_test)\n",
    "print(f\"Accuracy after Bayesian Optimization: {bayes_search_score:.2f}\") "
   ]
  },
  {
   "cell_type": "markdown",
   "metadata": {
    "id": "hE7pqlEPEYzI"
   },
   "source": [
    "## **d. Evaluasi Model Klasifikasi setelah Tuning (Optional)**"
   ]
  },
  {
   "cell_type": "code",
   "execution_count": 92,
   "metadata": {
    "id": "HTXZRvEeNMb1"
   },
   "outputs": [
    {
     "name": "stdout",
     "output_type": "stream",
     "text": [
      "Model training selesai.\n"
     ]
    }
   ],
   "source": [
    "# Model setelah tuning\n",
    "knn_tuned = KNeighborsClassifier(metric='euclidean', n_neighbors=4, weights='uniform')\n",
    "knn_tuned.fit(X_train, y_train)\n",
    "\n",
    "rf_tuned = RandomForestClassifier(criterion='gini', max_depth=39, min_samples_split=9, n_estimators=226)\n",
    "rf_tuned.fit(X_train, y_train)\n",
    "\n",
    "\n",
    "print(\"Model training selesai.\")"
   ]
  },
  {
   "cell_type": "code",
   "execution_count": 93,
   "metadata": {},
   "outputs": [
    {
     "data": {
      "text/html": [
       "<div>\n",
       "<style scoped>\n",
       "    .dataframe tbody tr th:only-of-type {\n",
       "        vertical-align: middle;\n",
       "    }\n",
       "\n",
       "    .dataframe tbody tr th {\n",
       "        vertical-align: top;\n",
       "    }\n",
       "\n",
       "    .dataframe thead th {\n",
       "        text-align: right;\n",
       "    }\n",
       "</style>\n",
       "<table border=\"1\" class=\"dataframe\">\n",
       "  <thead>\n",
       "    <tr style=\"text-align: right;\">\n",
       "      <th></th>\n",
       "      <th>Model</th>\n",
       "      <th>Accuracy</th>\n",
       "      <th>Precision</th>\n",
       "      <th>Recall</th>\n",
       "      <th>F1-Score</th>\n",
       "    </tr>\n",
       "  </thead>\n",
       "  <tbody>\n",
       "    <tr>\n",
       "      <th>0</th>\n",
       "      <td>K-Nearest Neighbors</td>\n",
       "      <td>0.996024</td>\n",
       "      <td>0.996028</td>\n",
       "      <td>0.996024</td>\n",
       "      <td>0.995934</td>\n",
       "    </tr>\n",
       "    <tr>\n",
       "      <th>1</th>\n",
       "      <td>K-Nearest Neighbors Tuned</td>\n",
       "      <td>0.998012</td>\n",
       "      <td>0.998016</td>\n",
       "      <td>0.998012</td>\n",
       "      <td>0.997814</td>\n",
       "    </tr>\n",
       "    <tr>\n",
       "      <th>2</th>\n",
       "      <td>Random Forest</td>\n",
       "      <td>1.000000</td>\n",
       "      <td>1.000000</td>\n",
       "      <td>1.000000</td>\n",
       "      <td>1.000000</td>\n",
       "    </tr>\n",
       "    <tr>\n",
       "      <th>3</th>\n",
       "      <td>Random Forest Tuned</td>\n",
       "      <td>1.000000</td>\n",
       "      <td>1.000000</td>\n",
       "      <td>1.000000</td>\n",
       "      <td>1.000000</td>\n",
       "    </tr>\n",
       "  </tbody>\n",
       "</table>\n",
       "</div>"
      ],
      "text/plain": [
       "                       Model  Accuracy  Precision    Recall  F1-Score\n",
       "0        K-Nearest Neighbors  0.996024   0.996028  0.996024  0.995934\n",
       "1  K-Nearest Neighbors Tuned  0.998012   0.998016  0.998012  0.997814\n",
       "2              Random Forest  1.000000   1.000000  1.000000  1.000000\n",
       "3        Random Forest Tuned  1.000000   1.000000  1.000000  1.000000"
      ]
     },
     "execution_count": 93,
     "metadata": {},
     "output_type": "execute_result"
    }
   ],
   "source": [
    "# Mengevaluasi setiap model \n",
    "results = {\n",
    "    'K-Nearest Neighbors': evaluate_model(knn, X_test, y_test),\n",
    "    'K-Nearest Neighbors Tuned': evaluate_model(knn_tuned, X_test, y_test),\n",
    "    'Random Forest': evaluate_model(rf, X_test, y_test),\n",
    "    'Random Forest Tuned': evaluate_model(rf_tuned, X_test, y_test)\n",
    "}\n",
    "\n",
    "# Isi DataFrame dengan hasil\n",
    "rows = []\n",
    "for model_name, metrics in results.items():\n",
    "    rows.append({\n",
    "        'Model': model_name,\n",
    "        'Accuracy': metrics['Accuracy'],\n",
    "        'Precision': metrics['Precision'],\n",
    "        'Recall': metrics['Recall'],\n",
    "        'F1-Score': metrics['F1-Score']\n",
    "    })\n",
    "\n",
    "# Buat DataFrame untuk meringkas hasil\n",
    "summary_df = pd.DataFrame(columns=['Model', 'Accuracy', 'Precision', 'Recall', 'F1-Score'])\n",
    "\n",
    "# Konversi daftar kamus ke DataFrame\n",
    "summary_df = pd.DataFrame(rows)\n",
    "summary_df"
   ]
  },
  {
   "cell_type": "code",
   "execution_count": 94,
   "metadata": {},
   "outputs": [
    {
     "data": {
      "image/png": "[encoded data removed]",
      "text/plain": [
       "<Figure size 600x500 with 2 Axes>"
      ]
     },
     "metadata": {},
     "output_type": "display_data"
    },
    {
     "data": {
      "image/png": "[encoded data removed]",
      "text/plain": [
       "<Figure size 600x500 with 2 Axes>"
      ]
     },
     "metadata": {},
     "output_type": "display_data"
    }
   ],
   "source": [
    "plot_confusion_matrix(knn_tuned, X_test, y_test)\n",
    "plot_confusion_matrix(rf_tuned, X_test, y_test)"
   ]
  },
  {
   "cell_type": "markdown",
   "metadata": {
    "id": "ZRsOdm4uEgAW"
   },
   "source": [
    "## **e. Analisis Hasil Evaluasi Model Klasifikasi**"
   ]
  },
  {
   "cell_type": "code",
   "execution_count": 95,
   "metadata": {},
   "outputs": [
    {
     "data": {
      "text/html": [
       "<div>\n",
       "<style scoped>\n",
       "    .dataframe tbody tr th:only-of-type {\n",
       "        vertical-align: middle;\n",
       "    }\n",
       "\n",
       "    .dataframe tbody tr th {\n",
       "        vertical-align: top;\n",
       "    }\n",
       "\n",
       "    .dataframe thead th {\n",
       "        text-align: right;\n",
       "    }\n",
       "</style>\n",
       "<table border=\"1\" class=\"dataframe\">\n",
       "  <thead>\n",
       "    <tr style=\"text-align: right;\">\n",
       "      <th></th>\n",
       "      <th>Model</th>\n",
       "      <th>Accuracy</th>\n",
       "      <th>Precision</th>\n",
       "      <th>Recall</th>\n",
       "      <th>F1-Score</th>\n",
       "    </tr>\n",
       "  </thead>\n",
       "  <tbody>\n",
       "    <tr>\n",
       "      <th>0</th>\n",
       "      <td>K-Nearest Neighbors</td>\n",
       "      <td>0.996024</td>\n",
       "      <td>0.996028</td>\n",
       "      <td>0.996024</td>\n",
       "      <td>0.995934</td>\n",
       "    </tr>\n",
       "    <tr>\n",
       "      <th>1</th>\n",
       "      <td>K-Nearest Neighbors Tuned</td>\n",
       "      <td>0.998012</td>\n",
       "      <td>0.998016</td>\n",
       "      <td>0.998012</td>\n",
       "      <td>0.997814</td>\n",
       "    </tr>\n",
       "    <tr>\n",
       "      <th>2</th>\n",
       "      <td>Random Forest</td>\n",
       "      <td>1.000000</td>\n",
       "      <td>1.000000</td>\n",
       "      <td>1.000000</td>\n",
       "      <td>1.000000</td>\n",
       "    </tr>\n",
       "    <tr>\n",
       "      <th>3</th>\n",
       "      <td>Random Forest Tuned</td>\n",
       "      <td>1.000000</td>\n",
       "      <td>1.000000</td>\n",
       "      <td>1.000000</td>\n",
       "      <td>1.000000</td>\n",
       "    </tr>\n",
       "  </tbody>\n",
       "</table>\n",
       "</div>"
      ],
      "text/plain": [
       "                       Model  Accuracy  Precision    Recall  F1-Score\n",
       "0        K-Nearest Neighbors  0.996024   0.996028  0.996024  0.995934\n",
       "1  K-Nearest Neighbors Tuned  0.998012   0.998016  0.998012  0.997814\n",
       "2              Random Forest  1.000000   1.000000  1.000000  1.000000\n",
       "3        Random Forest Tuned  1.000000   1.000000  1.000000  1.000000"
      ]
     },
     "execution_count": 95,
     "metadata": {},
     "output_type": "execute_result"
    }
   ],
   "source": [
    "summary_df"
   ]
  },
  {
   "cell_type": "markdown",
   "metadata": {},
   "source": [
    "1. Perbandingan hasil sebelum dan setelah tuning\n",
    "   - Pada model KNN terjadi peningkatan akurasi setelah tuning\n",
    "   - Pada model Random Forest tidak ada perubahan sesudah tuning, dikarenakan akurasi sudah sempurna\n",
    "2. Identifikasi kelemahan model\n",
    "    - Pada model KNN masih terdapat kesalahan prediksi, namun setelah dilakukan tuning akurasi meningkat menjadi 0.998 yang menunjukkan sebenarnya model awal sudah baik namun dengan tuning model dapat ditingkatkan lagi\n",
    "    - Pada model Random Forest menunjukkan akurasi, presisi, recall, dan F1-Score sempurna dan kemungkinan terjadi overfitting karena kebocoran data\n",
    "3. Rekomendasi tindakan lanjutan\n",
    "   - Overfitting dapat diatasi dengan berbagai teknik, yaitu Cross-Validation, Early Stopping, Regularisasi, Dropout, Data Augmentation, atau Pruning"
   ]
  }
 ],
 "metadata": {
  "colab": {
   "provenance": []
  },
  "kernelspec": {
   "display_name": "Python 3 (ipykernel)",
   "language": "python",
   "name": "python3"
  },
  "language_info": {
   "codemirror_mode": {
    "name": "ipython",
    "version": 3
   },
   "file_extension": ".py",
   "mimetype": "text/x-python",
   "name": "python",
   "nbconvert_exporter": "python",
   "pygments_lexer": "ipython3",
   "version": "3.13.2"
  }
 },
 "nbformat": 4,
 "nbformat_minor": 4
}
